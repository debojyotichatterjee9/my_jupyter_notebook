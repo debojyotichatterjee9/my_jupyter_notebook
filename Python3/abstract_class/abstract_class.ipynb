{
 "cells": [
  {
   "cell_type": "markdown",
   "id": "757ee59d",
   "metadata": {},
   "source": [
    "### Problem Statement:\n",
    "\n",
    "Given a Book class and a Solution class, write a MyBook class that does the following:\n",
    "\n",
    "* Inherits from Book\n",
    "* Has a parameterized constructor taking these  parameters:\n",
    "    1. string ***title***\n",
    "    2. string ***author***\n",
    "    3. int ***price***\n",
    "* Implements the Book class' ***abstract display()*** method so it prints these  lines:\n",
    "    1. Title:, a space, and then the current instance's .\n",
    "    2. Author:, a space, and then the current instance's .\n",
    "    3. Price, a space, and then the current instance's .\n",
    "\n",
    "**Note:** Because these classes are being written in the same file, you must not use an access modifier (e.g.: public ) when declaring MyBook or your code will not execute.\n",
    "\n",
    "**Input Format**\n",
    "\n",
    "You are not responsible for reading any input from stdin. The Solution class creates a Book object and calls the MyBook class constructor (passing it the necessary arguments). It then calls the display method on the Book object.\n",
    "\n",
    "**Output Format**\n",
    "\n",
    "The  ***display()*** method should print and label the respective ***title***, ***author***, and ***price*** of the _MyBook_ object's instance (with each value on its own line) like so:\n",
    "\n",
    "```bash\n",
    "Title: $title\n",
    "Author: $author\n",
    "Price: $price\n",
    "```\n",
    "**Note**: The ***$*** is prepended to variable names to indicate they are placeholders for variables."
   ]
  },
  {
   "cell_type": "code",
   "execution_count": 21,
   "id": "f1b38c0d",
   "metadata": {},
   "outputs": [
    {
     "name": "stdout",
     "output_type": "stream",
     "text": [
      "Title: A new Book\n",
      "Author: John Doe\n",
      "Price: $3.99\n"
     ]
    }
   ],
   "source": [
    "from abc import ABCMeta, abstractmethod\n",
    "class Book(object, metaclass=ABCMeta):\n",
    "    def __init__(self,title,author):\n",
    "        self.title=title\n",
    "        self.author=author   \n",
    "    @abstractmethod\n",
    "    def display(): pass\n",
    "    \n",
    "#Write MyBook class\n",
    "class MyBook(Book):\n",
    "    price = 0\n",
    "    def __init__(self, title, author, price):\n",
    "        super().__init__(title, author)\n",
    "        self.price = price \n",
    "\n",
    "    def display(self):\n",
    "        print(\"Title: \"+ str(self.title))\n",
    "        print(\"Author: \"+ str(self.author))\n",
    "        print(\"Price: \"+ str(self.price))\n",
    "        \n",
    "new_novel=MyBook(\"A new Book\",\"John Doe\",\"$3.99\")\n",
    "new_novel.display()"
   ]
  }
 ],
 "metadata": {
  "kernelspec": {
   "display_name": "Python 3",
   "language": "python",
   "name": "python3"
  },
  "language_info": {
   "codemirror_mode": {
    "name": "ipython",
    "version": 3
   },
   "file_extension": ".py",
   "mimetype": "text/x-python",
   "name": "python",
   "nbconvert_exporter": "python",
   "pygments_lexer": "ipython3",
   "version": "3.8.5"
  }
 },
 "nbformat": 4,
 "nbformat_minor": 5
}

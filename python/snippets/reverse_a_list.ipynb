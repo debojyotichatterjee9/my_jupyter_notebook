{
 "cells": [
  {
   "cell_type": "code",
   "execution_count": 2,
   "id": "1ef34238",
   "metadata": {},
   "outputs": [],
   "source": [
    "list1 = [10, 11, 12, 13, 14, 15, 16, 17, 18]"
   ]
  },
  {
   "cell_type": "markdown",
   "id": "27fb7a0f",
   "metadata": {},
   "source": [
    "#### Method 1: Using the reversed() built-in function."
   ]
  },
  {
   "cell_type": "code",
   "execution_count": 7,
   "id": "6e7dd2aa",
   "metadata": {},
   "outputs": [
    {
     "name": "stdout",
     "output_type": "stream",
     "text": [
      "[18, 17, 16, 15, 14, 13, 12, 11, 10]\n"
     ]
    }
   ],
   "source": [
    "def rev_method1(lst):\n",
    "    return [elem for elem in reversed(lst)]\n",
    "rev1 = rev_method1(list1)\n",
    "print(rev1)"
   ]
  },
  {
   "cell_type": "markdown",
   "id": "edd96cf7",
   "metadata": {},
   "source": [
    "#### Method 2: Using the reverse() built-in function."
   ]
  },
  {
   "cell_type": "code",
   "execution_count": 13,
   "id": "21644f29",
   "metadata": {},
   "outputs": [
    {
     "name": "stdout",
     "output_type": "stream",
     "text": [
      "[18, 17, 16, 15, 14, 13, 12, 11, 10]\n"
     ]
    }
   ],
   "source": [
    "def rev_method2(lst):\n",
    "    lst.reverse()\n",
    "    return lst\n",
    "rev2 = rev_method2(list1)\n",
    "print(rev2)"
   ]
  },
  {
   "cell_type": "markdown",
   "id": "13d05384",
   "metadata": {},
   "source": [
    "#### Method 3: Using the slicing technique."
   ]
  },
  {
   "cell_type": "code",
   "execution_count": 19,
   "id": "d3c4a112",
   "metadata": {},
   "outputs": [
    {
     "name": "stdout",
     "output_type": "stream",
     "text": [
      "[18, 17, 16, 15, 14, 13, 12, 11, 10]\n"
     ]
    }
   ],
   "source": [
    "def rev_method3(lst):\n",
    "    return lst[::1]\n",
    "    \n",
    "rev3 = rev_method3(list1)\n",
    "print(rev3)"
   ]
  }
 ],
 "metadata": {
  "kernelspec": {
   "display_name": "Python 3",
   "language": "python",
   "name": "python3"
  },
  "language_info": {
   "codemirror_mode": {
    "name": "ipython",
    "version": 3
   },
   "file_extension": ".py",
   "mimetype": "text/x-python",
   "name": "python",
   "nbconvert_exporter": "python",
   "pygments_lexer": "ipython3",
   "version": "3.8.5"
  }
 },
 "nbformat": 4,
 "nbformat_minor": 5
}

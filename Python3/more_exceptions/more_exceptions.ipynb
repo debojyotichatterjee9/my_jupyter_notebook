{
 "cells": [
  {
   "cell_type": "markdown",
   "id": "249483e4",
   "metadata": {},
   "source": [
    "### Problem Statement\n",
    "\n",
    "Write a Calculator class with a single method: ***int power(int,int)***. The power method takes two integers, ***n*** and ***p***, as parameters and returns the integer result of ***n^p***. If either ***n*** or ***p*** is negative, then the method must throw an exception with the message: `n and p should be non-negative`.\n",
    "\n",
    "**Note:** Do not use an access modifier (e.g.: public) in the declaration for your Calculator class.\n",
    "\n",
    "#### Input Format\n",
    "\n",
    "Input from stdin is handled for you by the locked stub code in your editor. The first line contains an integer, ***T***, the number of test cases. Each of the ***T*** subsequent lines describes a test case in  space-separated integers that denote ***n*** and ***p***, respectively.\n",
    "\n",
    "#### Constraints\n",
    "\n",
    "* No Test Case will result in overflow for correctly written code.\n",
    "\n",
    "#### Output Format\n",
    "\n",
    "Output to stdout is handled for you by the locked stub code in your editor. There are ***T*** lines of output, where each line contains the result of ***n^p*** as calculated by your **Calculator class'** power method.\n",
    "\n",
    "##### Sample Input\n",
    "```bash\n",
    "4\n",
    "3 5\n",
    "2 4\n",
    "-1 -2\n",
    "-1 3\n",
    "```\n",
    "##### Sample Output\n",
    "```bash\n",
    "243\n",
    "16\n",
    "n and p should be non-negative\n",
    "n and p should be non-negative\n",
    "```\n",
    "\n",
    "#### Explanation\n",
    "* ***T = 4***\n",
    "* ***T0***: **3** and **5** are positive, so power returns the result of **3^5**, which is **243**.\n",
    "* ***T1***: **2** and **4** are positive, so power returns the result of **2^4**, which is **16**.\n",
    "* ***T2***: Both inputs (**-1** and **-2**) are negative, so *power* throws an exception and `n and p should be non-negative` is printed.\n",
    "* ***T3***: One of the inputs (**-1**) is negative, so *power* throws an exception and `n and p should be non-negative` is printed."
   ]
  },
  {
   "cell_type": "code",
   "execution_count": 19,
   "id": "5d4ca988",
   "metadata": {},
   "outputs": [
    {
     "name": "stdout",
     "output_type": "stream",
     "text": [
      "4\n",
      "3 5\n",
      "243\n",
      "2 4\n",
      "16\n",
      "-1 -2\n",
      "n and p should be non-negative\n",
      "-1 3\n",
      "n and p should be non-negative\n"
     ]
    }
   ],
   "source": [
    "import math\n",
    "#Write your code here\n",
    "class Calculator:\n",
    "    def power(self,n,p):\n",
    "        try:\n",
    "            if(n < 0 or p < 0):\n",
    "                raise ValueError\n",
    "            result = int(math.pow(n,p))\n",
    "            return result\n",
    "        except ValueError:\n",
    "            return(\"n and p should be non-negative\")\n",
    "        \n",
    "myCalculator=Calculator()\n",
    "T=int(input())\n",
    "for i in range(T):\n",
    "    n,p = map(int, input().split())\n",
    "    try:\n",
    "        ans=myCalculator.power(n,p)\n",
    "        print(ans)\n",
    "    except Exception as e:\n",
    "        print(e)"
   ]
  }
 ],
 "metadata": {
  "kernelspec": {
   "display_name": "Python 3",
   "language": "python",
   "name": "python3"
  },
  "language_info": {
   "codemirror_mode": {
    "name": "ipython",
    "version": 3
   },
   "file_extension": ".py",
   "mimetype": "text/x-python",
   "name": "python",
   "nbconvert_exporter": "python",
   "pygments_lexer": "ipython3",
   "version": "3.8.5"
  }
 },
 "nbformat": 4,
 "nbformat_minor": 5
}

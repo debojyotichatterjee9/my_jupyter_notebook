{
 "cells": [
  {
   "cell_type": "code",
   "execution_count": 5,
   "id": "ae9b645c",
   "metadata": {},
   "outputs": [
    {
     "name": "stdout",
     "output_type": "stream",
     "text": [
      "[18, 16, 11, 19, 14, 15, 13, 12, 17, 10]\n"
     ]
    }
   ],
   "source": [
    "import random\n",
    "list1 = random.sample(range(10,20),10)\n",
    "print(list1)"
   ]
  },
  {
   "cell_type": "markdown",
   "id": "0c24808a",
   "metadata": {},
   "source": [
    "#### Method 1:"
   ]
  },
  {
   "cell_type": "code",
   "execution_count": 12,
   "id": "ad6e1e98",
   "metadata": {},
   "outputs": [
    {
     "name": "stdout",
     "output_type": "stream",
     "text": [
      "True\n"
     ]
    }
   ],
   "source": [
    "def linear_method1(lst, val):\n",
    "    for elem in lst:\n",
    "        if elem == val:\n",
    "            return True\n",
    "    return False\n",
    "print(linear_method1(list1,10))"
   ]
  },
  {
   "cell_type": "markdown",
   "id": "a0718de9",
   "metadata": {},
   "source": [
    "#### Method2:"
   ]
  },
  {
   "cell_type": "code",
   "execution_count": 18,
   "id": "8f9ad03c",
   "metadata": {},
   "outputs": [
    {
     "name": "stdout",
     "output_type": "stream",
     "text": [
      "True\n"
     ]
    }
   ],
   "source": [
    "def linear_method2(lst, val):\n",
    "    for i in range(0,len(lst)):\n",
    "        if lst[i] == val:\n",
    "            return True\n",
    "    return False\n",
    "print(linear_method2(list1, 17))"
   ]
  },
  {
   "cell_type": "markdown",
   "id": "75d5f518",
   "metadata": {},
   "source": [
    "#### For Tuple"
   ]
  },
  {
   "cell_type": "code",
   "execution_count": 33,
   "id": "a0c6b574",
   "metadata": {},
   "outputs": [
    {
     "name": "stdout",
     "output_type": "stream",
     "text": [
      "True\n"
     ]
    }
   ],
   "source": [
    "tuple1= (23, 55, 'Microbiology', 90, 'Assam', 2)\n",
    "\n",
    "def linear_tuple(tpl, val):\n",
    "    for elem in tpl:\n",
    "        if elem == val:\n",
    "            return True\n",
    "    return False\n",
    "\n",
    "print(linear_tuple(tuple1, \"Assam\"))"
   ]
  }
 ],
 "metadata": {
  "kernelspec": {
   "display_name": "Python 3",
   "language": "python",
   "name": "python3"
  },
  "language_info": {
   "codemirror_mode": {
    "name": "ipython",
    "version": 3
   },
   "file_extension": ".py",
   "mimetype": "text/x-python",
   "name": "python",
   "nbconvert_exporter": "python",
   "pygments_lexer": "ipython3",
   "version": "3.8.5"
  }
 },
 "nbformat": 4,
 "nbformat_minor": 5
}

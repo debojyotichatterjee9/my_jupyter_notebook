{
 "cells": [
  {
   "cell_type": "markdown",
   "id": "f563537d",
   "metadata": {},
   "source": [
    "### Problem Statement\n",
    "\n",
    "The `AdvancedArithmetic` interface and the method declaration for the abstract `divisorSum(n)` method are provided for you in the editor below.\n",
    "\n",
    "Complete the implementation of `Calculator` class, which implements the `AdvancedArithmetic` interface. The implementation for the `divisorSum(n)` method must return the sum of all divisors of ***n***.\n",
    "\n",
    "#### Example\n",
    "\n",
    "***n = 25***\n",
    "\n",
    "The divisors of **25** are **1, 5, 25**. Their sum is **31**.\n",
    "___\n",
    "***n = 20***\n",
    "\n",
    "The divisors of **20** are **1, 2, 4, 5, 10, 20** and their sum is **42**.\n",
    "\n",
    "#### Input Format\n",
    "\n",
    "A single line with an integer, ***n***.\n",
    "\n",
    "#### Constraints\n",
    "* ***1 <= n <= 1000***\n",
    "\n",
    "#### Output Format\n",
    "\n",
    "You are not responsible for printing anything to stdout. The locked template code in the editor below will call your code and print the necessary output.\n",
    "\n",
    "##### Sample Input\n",
    "```bash\n",
    "6\n",
    "```\n",
    "\n",
    "##### Sample Output\n",
    "```bash\n",
    "I implemented: AdvancedArithmetic\n",
    "12\n",
    "```\n",
    "\n",
    "#### Explanation\n",
    "\n",
    "The integer **6** is evenly divisible by **1, 2, 3,** and **6**. Our *divisorSum* method should return the sum of these numbers, which is **1 + 2 + 3 + 6 = 12**. The *Solution* class then prints **I implemented: AdvancedArithemetic** on the first line, followed by the sum returned by *divisorSum* (which is **12**) on the second line."
   ]
  },
  {
   "cell_type": "code",
   "execution_count": 39,
   "id": "8934a8b9",
   "metadata": {},
   "outputs": [
    {
     "name": "stdout",
     "output_type": "stream",
     "text": [
      "6\n",
      "[1, 6, 2, 3]\n",
      "I implemented: AdvancedArithmetic\n",
      "12\n"
     ]
    }
   ],
   "source": [
    "class AdvancedArithmetic(object):\n",
    "    def divisorSum(n):\n",
    "        raise NotImplementedError\n",
    "\n",
    "class Calculator(AdvancedArithmetic):\n",
    "    def divisorSum(self, n):\n",
    "        i = 1\n",
    "        divisor_list= []\n",
    "        while i <= math.sqrt(n):\n",
    "            if (n % i == 0) :\n",
    "                if (n / i == i) :\n",
    "                    divisor_list.append(i)\n",
    "                else :\n",
    "                    divisor_list.extend([i, int(n/i)])\n",
    "            i = i + 1\n",
    "        print(divisor_list)\n",
    "        return sum(divisor_list)\n",
    "\n",
    "\n",
    "n = int(input())\n",
    "my_calculator = Calculator()\n",
    "s = my_calculator.divisorSum(n)\n",
    "print(\"I implemented: \" + type(my_calculator).__bases__[0].__name__)\n",
    "print(s)"
   ]
  }
 ],
 "metadata": {
  "kernelspec": {
   "display_name": "Python 3",
   "language": "python",
   "name": "python3"
  },
  "language_info": {
   "codemirror_mode": {
    "name": "ipython",
    "version": 3
   },
   "file_extension": ".py",
   "mimetype": "text/x-python",
   "name": "python",
   "nbconvert_exporter": "python",
   "pygments_lexer": "ipython3",
   "version": "3.8.5"
  }
 },
 "nbformat": 4,
 "nbformat_minor": 5
}

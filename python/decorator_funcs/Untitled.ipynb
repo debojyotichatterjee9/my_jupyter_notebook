{
 "cells": [
  {
   "cell_type": "code",
   "execution_count": 7,
   "id": "5bff9225",
   "metadata": {},
   "outputs": [
    {
     "name": "stdout",
     "output_type": "stream",
     "text": [
      "<function deco_func.<locals>.wrapper at 0x7efcdc4e8550>\n",
      "Trigger\n",
      "Hello Python\n",
      "Kill\n",
      "------------------------------\n"
     ]
    }
   ],
   "source": [
    "def deco_func(val):\n",
    "    def wrapper():\n",
    "        print(\"Trigger\")\n",
    "        print(val)\n",
    "        print(\"Kill\")\n",
    "        print(\"------------------------------\")\n",
    "    return wrapper\n",
    "\n",
    "holder = deco_func(\"Hello Python\")\n",
    "print(holder)\n",
    "holder()\n"
   ]
  }
 ],
 "metadata": {
  "kernelspec": {
   "display_name": "Python 3",
   "language": "python",
   "name": "python3"
  },
  "language_info": {
   "codemirror_mode": {
    "name": "ipython",
    "version": 3
   },
   "file_extension": ".py",
   "mimetype": "text/x-python",
   "name": "python",
   "nbconvert_exporter": "python",
   "pygments_lexer": "ipython3",
   "version": "3.8.5"
  }
 },
 "nbformat": 4,
 "nbformat_minor": 5
}

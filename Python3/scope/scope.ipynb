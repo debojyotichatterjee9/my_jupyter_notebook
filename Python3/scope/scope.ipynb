{
 "cells": [
  {
   "cell_type": "markdown",
   "id": "f30211c8",
   "metadata": {},
   "source": [
    "### Problem Statement\n",
    "\n",
    "The absolute difference between two integers, a and b, is written as |a-b|. The maximum absolute difference between two integers in a set of positive integers, ***elements***, is the largest absolute difference between any two integers in ***__elements***.\n",
    "\n",
    "The Difference class is started for you in the editor. It has a private integer array ***(elements)*** for storing ***N*** non-negative integers, and a public integer ***(maximumDifference)*** for storing the maximum absolute difference.\n",
    "\n",
    "Task\n",
    "Complete the Difference class by writing the following:\n",
    "\n",
    "* A class constructor that takes an array of integers as a parameter and saves it to the ***__elements*** instance variable.\n",
    "* A *computeDifference* method that finds the maximum absolute difference between any **2** numbers in ***__elements*** and stores it in the ***maximumDifference*** instance variable.\n",
    "\n",
    "#### Input Format\n",
    "\n",
    "##### Constraints\n",
    "* 1<= N <= 10\n",
    "1 <= ***__elements[i]*** <= 100, where 0 <= i <= N - 1\n",
    "\n",
    "#### Output Format\n",
    "\n",
    "The Solution class will print the value of the ***maximumDifference*** instance variable.\n",
    "\n",
    "##### Sample Input\n",
    "\n",
    "```bash\n",
    "STDIN   Function\n",
    "-----   --------\n",
    "3       __elements[] size N = 3\n",
    "1 2 5   __elements = [1, 2, 5]\n",
    "```\n",
    "##### Sample Output\n",
    "\n",
    "4\n",
    "\n",
    "Explanation\n",
    "\n",
    "The scope of the ***__elements*** array and ***maximumDifference*** integer is the entire class instance. The class constructor saves the argument passed to the constructor as the ***__elements*** instance variable (where the *computeDifference* method can access it).\n",
    "\n",
    "To find the maximum difference, computeDifference checks each element in the array and finds the maximum difference between any **2** elements: \n",
    "\n",
    "|1 - 2| = 1\n",
    "\n",
    "|1 - 5| = 4\n",
    "\n",
    "|2 - 5| = 3\n",
    "\n",
    "The maximum of these differences is **4**, so it saves the value **4** as the ***maximumDifference*** instance variable,then prints the value stored as ***maximumDIfference***, which is **4**."
   ]
  },
  {
   "cell_type": "code",
   "execution_count": 25,
   "id": "34da1e46",
   "metadata": {},
   "outputs": [
    {
     "name": "stdout",
     "output_type": "stream",
     "text": [
      "The array of numbers --> [25, 10, 28, 16, 29]\n",
      "19\n"
     ]
    }
   ],
   "source": [
    "import random\n",
    "class Difference:\n",
    "    def __init__(self, a):\n",
    "        self.__elements = a\n",
    "\n",
    "# Add your code here\n",
    "    def computeDifference(self):\n",
    "        max_val = max(self.__elements)\n",
    "        min_val = min(self.__elements)\n",
    "        self.maximumDifference = abs(max_val - min_val)\n",
    "# End of Difference class\n",
    "\n",
    "\n",
    "a = random.sample(range(10,30),5)\n",
    "print(f\"The array of numbers --> {a}\")\n",
    "d = Difference(a)\n",
    "d.computeDifference()\n",
    "\n",
    "print(d.maximumDifference)"
   ]
  }
 ],
 "metadata": {
  "kernelspec": {
   "display_name": "Python 3",
   "language": "python",
   "name": "python3"
  },
  "language_info": {
   "codemirror_mode": {
    "name": "ipython",
    "version": 3
   },
   "file_extension": ".py",
   "mimetype": "text/x-python",
   "name": "python",
   "nbconvert_exporter": "python",
   "pygments_lexer": "ipython3",
   "version": "3.8.5"
  }
 },
 "nbformat": 4,
 "nbformat_minor": 5
}

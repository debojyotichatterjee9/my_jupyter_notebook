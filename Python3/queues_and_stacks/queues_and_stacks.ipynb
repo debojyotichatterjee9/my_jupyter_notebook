{
 "cells": [
  {
   "cell_type": "markdown",
   "id": "eb7c4bf0",
   "metadata": {},
   "source": [
    "### Problem Statement\n",
    "\n",
    "A palindrome is a word, phrase, number, or other sequence of characters which reads the same backwards and forwards. Can you determine if a given string, ***s***, is a palindrome?\n",
    "\n",
    "To solve this challenge, we must first take each character in ***s***, enqueue it in a queue, and also push that same character onto a stack. Once that's done, we must dequeue the first character from the queue and pop the top character off the stack, then compare the two characters to see if they are the same; as long as the characters match, we continue dequeueing, popping, and comparing each character until our containers are empty (a non-match means ***s*** isn't a palindrome).\n",
    "\n",
    "Write the following declarations and implementations:\n",
    "\n",
    "* Two instance variables: one for your ***stack***, and one for your ***queue***.\n",
    "* A *void pushCharacter(char ch)* method that pushes a character onto a stack.\n",
    "* A *void enqueueCharacter(char ch)* method that enqueues a character in the ***queue*** instance variable.\n",
    "* A char *popCharacter()* method that pops and returns the character at the top of the ***stack*** instance variable.\n",
    "* A char *dequeueCharacter()* method that dequeues and returns the first character in the ***queue*** instance variable.\n",
    "\n",
    "#### Input Format\n",
    "You *do not* need to read anything from stdin. The locked stub code in your editor reads a single line containing string ***s***. It then calls the methods specified above to pass each character to your instance variables.\n",
    "\n",
    "#### Constraints\n",
    "\n",
    "* ***s*** is composed of lowercase English letters.\n",
    "\n",
    "#### Output Format\n",
    "You are not responsible for printing any output to stdout.\n",
    "If your code is correctly written and ***s*** is a palindrome, the locked stub code will print `The word s, is a palindrome.`; otherwise, it will print `The word s, is not a palindrome.`\n",
    "\n",
    "##### Sample Input\n",
    "```bash\n",
    "racecar\n",
    "```\n",
    "\n",
    "##### Sample Output\n",
    "```bash\n",
    "The word, racecar, is a palindrome.\n",
    "```"
   ]
  }
 ],
 "metadata": {
  "kernelspec": {
   "display_name": "Python 3",
   "language": "python",
   "name": "python3"
  },
  "language_info": {
   "codemirror_mode": {
    "name": "ipython",
    "version": 3
   },
   "file_extension": ".py",
   "mimetype": "text/x-python",
   "name": "python",
   "nbconvert_exporter": "python",
   "pygments_lexer": "ipython3",
   "version": "3.8.5"
  }
 },
 "nbformat": 4,
 "nbformat_minor": 5
}

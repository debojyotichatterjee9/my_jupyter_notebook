{
 "cells": [
  {
   "cell_type": "markdown",
   "id": "085680e9",
   "metadata": {},
   "source": [
    "#### filter digits out of a string"
   ]
  },
  {
   "cell_type": "code",
   "execution_count": 11,
   "id": "98325f33",
   "metadata": {},
   "outputs": [
    {
     "name": "stdout",
     "output_type": "stream",
     "text": [
      "Provided string:  Hello99World88How77are66you55??44\n",
      "998877665544\n"
     ]
    }
   ],
   "source": [
    "string1 = \"Hello99World88How77are66you55??44\"\n",
    "print(\"Provided string: \", string1)\n",
    "filtered = \"\".join(filter(lambda i: i.isdigit(), string1))\n",
    "print(filtered)"
   ]
  },
  {
   "cell_type": "markdown",
   "id": "c728b10d",
   "metadata": {},
   "source": [
    "#### Count number of words in a sentence"
   ]
  },
  {
   "cell_type": "code",
   "execution_count": 21,
   "id": "64c6f9d1",
   "metadata": {},
   "outputs": [
    {
     "name": "stdout",
     "output_type": "stream",
     "text": [
      "list of words:  ['This', 'is', 'a', 'sample', 'text', 'sentence.']\n",
      "Number of words are:  6\n"
     ]
    }
   ],
   "source": [
    "string2 = \"This is a sample text sentence.\"\n",
    "word_list = string2.strip().split(\" \")\n",
    "print(\"list of words: \", word_list)\n",
    "print(\"Number of words are: \", len(word_list))"
   ]
  },
  {
   "cell_type": "markdown",
   "id": "d720e9f8",
   "metadata": {},
   "source": [
    "#### Delete re-occuring charaters in a srting"
   ]
  },
  {
   "cell_type": "code",
   "execution_count": 37,
   "id": "a6b37fa5",
   "metadata": {},
   "outputs": [
    {
     "name": "stdout",
     "output_type": "stream",
     "text": [
      "pPlishen\n",
      "Philpnes\n"
     ]
    }
   ],
   "source": [
    "def remove_repeats(str):\n",
    "    return (\"\".join(set(list(str))))\n",
    "\n",
    "def remove_repeats2(str):\n",
    "    char_bucket = set()\n",
    "    final_string = \"\"\n",
    "    for elem in str:\n",
    "        if elem not in char_bucket:\n",
    "            char_bucket.add(elem)\n",
    "            final_string += elem\n",
    "    return final_string\n",
    "\n",
    "string3 = \"Philippines\"\n",
    "clean_string = remove_repeats(string3)\n",
    "print(clean_string)\n",
    "\n",
    "clean_string2 = remove_repeats2(string3)\n",
    "print(clean_string2)"
   ]
  }
 ],
 "metadata": {
  "kernelspec": {
   "display_name": "Python 3",
   "language": "python",
   "name": "python3"
  },
  "language_info": {
   "codemirror_mode": {
    "name": "ipython",
    "version": 3
   },
   "file_extension": ".py",
   "mimetype": "text/x-python",
   "name": "python",
   "nbconvert_exporter": "python",
   "pygments_lexer": "ipython3",
   "version": "3.8.5"
  }
 },
 "nbformat": 4,
 "nbformat_minor": 5
}

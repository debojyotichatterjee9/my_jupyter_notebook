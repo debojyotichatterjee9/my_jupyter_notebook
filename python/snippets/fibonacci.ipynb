{
 "cells": [
  {
   "cell_type": "code",
   "execution_count": 36,
   "id": "e8bb031e",
   "metadata": {},
   "outputs": [
    {
     "name": "stdout",
     "output_type": "stream",
     "text": [
      "[0, 1, 1, 2, 3, 5, 8, 13, 21, 34]\n"
     ]
    }
   ],
   "source": [
    "def fibo(n):\n",
    "    if n==0:\n",
    "        return 0\n",
    "    elif n==1:\n",
    "        return 1\n",
    "    else:\n",
    "        return fibo(n-1)+fibo(n-2)\n",
    "\n",
    "# fibo_result=[]\n",
    "for i in range(0,10):\n",
    "    if i==0:\n",
    "        '''\n",
    "        this is a method of clearing all the elements in a list\n",
    "        you can also use \n",
    "        del list_name[:]\n",
    "        list_name.clear()\n",
    "        list_name=[]\n",
    "        '''\n",
    "        fibo_result*=0 \n",
    "    fibo_result.append(fibo(i))\n",
    "print(fibo_result)"
   ]
  }
 ],
 "metadata": {
  "kernelspec": {
   "display_name": "Python 3",
   "language": "python",
   "name": "python3"
  },
  "language_info": {
   "codemirror_mode": {
    "name": "ipython",
    "version": 3
   },
   "file_extension": ".py",
   "mimetype": "text/x-python",
   "name": "python",
   "nbconvert_exporter": "python",
   "pygments_lexer": "ipython3",
   "version": "3.8.5"
  }
 },
 "nbformat": 4,
 "nbformat_minor": 5
}

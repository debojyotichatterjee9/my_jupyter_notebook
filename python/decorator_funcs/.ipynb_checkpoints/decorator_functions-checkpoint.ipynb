{
 "cells": [
  {
   "cell_type": "markdown",
   "id": "0b198d75",
   "metadata": {},
   "source": [
    "### Decorator Functions\n",
    "\n",
    "Decorators are a way to modify the behavior of a function without changing any of it's code. Decorators have many different use cases but are typically used when minor changes need to be made to many different functions."
   ]
  },
  {
   "cell_type": "markdown",
   "id": "28ce1b6d",
   "metadata": {},
   "source": [
    "Below is an example what a decorator basically does in the background."
   ]
  },
  {
   "cell_type": "code",
   "execution_count": 5,
   "id": "77c2ccd4",
   "metadata": {},
   "outputs": [
    {
     "name": "stdout",
     "output_type": "stream",
     "text": [
      "<function func.<locals>.wrapper at 0x7f367cf14e50>\n",
      "Trigger\n",
      "This is Function 1\n",
      "Kill\n",
      "------------------------------\n",
      "Trigger\n",
      "This is Function 2\n",
      "Kill\n",
      "------------------------------\n",
      "Trigger\n",
      "This is Function 3\n",
      "Kill\n",
      "------------------------------\n"
     ]
    }
   ],
   "source": [
    "def func(f):\n",
    "    def wrapper():\n",
    "        print(\"Trigger\")\n",
    "        f()\n",
    "        print(\"Kill\")\n",
    "        print(\"------------------------------\")\n",
    "    return wrapper\n",
    "\n",
    "def func1():\n",
    "    print(\"This is Function 1\")\n",
    "    \n",
    "def func2():\n",
    "    print(\"This is Function 2\")\n",
    "    \n",
    "def func3():\n",
    "    print(\"This is Function 3\")\n",
    "\n",
    "func1 = func(func1)\n",
    "func2 = func(func2)\n",
    "func3 = func(func3)\n",
    "print(func1)\n",
    "func1()\n",
    "func2()\n",
    "func3()"
   ]
  },
  {
   "cell_type": "markdown",
   "id": "535060dc",
   "metadata": {},
   "source": [
    "So, wheever you are creating a decoratoe function you have to create this wrapper function/functionality.\n",
    "The outer function takes the function itself as an arguement and the inner wrapper function calls the actual funcion upon which you are making the modifications.\n",
    "Below is an example of the above code as a decorator function syntax in Pyhton."
   ]
  },
  {
   "cell_type": "code",
   "execution_count": 6,
   "id": "fe81444f",
   "metadata": {},
   "outputs": [
    {
     "name": "stdout",
     "output_type": "stream",
     "text": [
      "Trigger\n",
      "This is Function 1\n",
      "Kill\n",
      "------------------------------\n",
      "Trigger\n",
      "This is Function 2\n",
      "Kill\n",
      "------------------------------\n",
      "Trigger\n",
      "This is Function 3\n",
      "Kill\n",
      "------------------------------\n"
     ]
    }
   ],
   "source": [
    "def func(f):\n",
    "    def wrapper():\n",
    "        print(\"Trigger\")\n",
    "        f()\n",
    "        print(\"Kill\")\n",
    "        print(\"------------------------------\")\n",
    "    return wrapper\n",
    "@func\n",
    "def func1():\n",
    "    print(\"This is Function 1\")\n",
    "@func    \n",
    "def func2():\n",
    "    print(\"This is Function 2\")\n",
    "@func    \n",
    "def func3():\n",
    "    print(\"This is Function 3\")\n",
    "\n",
    "func1()\n",
    "func2()\n",
    "func3()"
   ]
  },
  {
   "cell_type": "markdown",
   "id": "8c2472c4",
   "metadata": {},
   "source": [
    "Now below is an example when one or more functions requires and arguements/parameters to be passed or one or more functions happen to return some value back when they are called.\n",
    "The whole point of decorator functions is to be able to use in any functions usecase, hence for that we use the unpack or splat operator i.e. _* args_ and _** kwargs_"
   ]
  },
  {
   "cell_type": "code",
   "execution_count": 11,
   "id": "d22d2bbb",
   "metadata": {},
   "outputs": [
    {
     "name": "stdout",
     "output_type": "stream",
     "text": [
      "Trigger\n",
      "This is Function 1\n",
      "Function 1 value:  20\n",
      "Kill\n",
      "------------------------------\n",
      "Trigger\n",
      "This is Function 2\n",
      "Kill\n",
      "------------------------------\n",
      "Trigger\n",
      "This is Function 3\n",
      "Kill\n",
      "------------------------------\n",
      "Function 2 sum value:  85\n"
     ]
    }
   ],
   "source": [
    "def func(f):\n",
    "    def wrapper(*args, **kwargs):\n",
    "        print(\"Trigger\")\n",
    "        res = f(*args, **kwargs)\n",
    "        print(\"Kill\")\n",
    "        print(\"------------------------------\")\n",
    "        return res\n",
    "    return wrapper\n",
    "@func\n",
    "def func1(val):\n",
    "    print(\"This is Function 1\")\n",
    "    print(\"Function 1 value: \", val)\n",
    "@func    \n",
    "def func2(val1, val2):\n",
    "    print(\"This is Function 2\")\n",
    "    return val1 + val2\n",
    "@func    \n",
    "def func3():\n",
    "    print(\"This is Function 3\")\n",
    "\n",
    "func1(20)\n",
    "result2 = func2(45, 40)\n",
    "func3()\n",
    "print(\"Function 2 sum value: \", result2)"
   ]
  },
  {
   "cell_type": "markdown",
   "id": "e68b27f8",
   "metadata": {},
   "source": [
    "#### Creating a Timer decorator function"
   ]
  },
  {
   "cell_type": "code",
   "execution_count": 20,
   "id": "5e21d8b8",
   "metadata": {},
   "outputs": [
    {
     "name": "stdout",
     "output_type": "stream",
     "text": [
      "Wrapper Started\n",
      "Function 1 with value: 100\n",
      "Wrapper Ended\n",
      "Execution time:  0.17213869094848633\n",
      "###############################\n",
      "Wrapper Started\n",
      "This second function returns a value\n",
      "Wrapper Ended\n",
      "Execution time:  2.002732515335083\n",
      "###############################\n",
      "Wrapper Started\n",
      "This is a simple third function.\n",
      "Wrapper Ended\n",
      "Execution time:  1.0027363300323486\n",
      "###############################\n",
      "The result for the second function is:  75\n"
     ]
    }
   ],
   "source": [
    "import time\n",
    "def timer(func):\n",
    "    def wrapper(*args, **kwargs):\n",
    "        start_time = time.time()\n",
    "        print(\"Wrapper Started\")\n",
    "        res = func(*args, **kwargs)\n",
    "        print(\"Wrapper Ended\")\n",
    "        print(\"Execution time: \", (time.time() - start_time))\n",
    "        print(\"###############################\")\n",
    "        return res\n",
    "    return wrapper\n",
    "\n",
    "@timer\n",
    "def first(val):\n",
    "    for i in range(9999999):\n",
    "        pass\n",
    "    print(\"Function 1 with value:\", val)\n",
    "    \n",
    "@timer\n",
    "def second(val1, val2):\n",
    "    time.sleep(2)\n",
    "    print(\"This second function returns a value\")\n",
    "    return (val1 + val2)\n",
    "\n",
    "@timer\n",
    "def third():\n",
    "    time.sleep(1)\n",
    "    print(\"This is a simple third function.\")\n",
    "    \n",
    "first(100)\n",
    "iris = second(25, 50)\n",
    "third()\n",
    "print(\"The result for the second function is: \", iris)"
   ]
  },
  {
   "cell_type": "markdown",
   "id": "17c7bf60",
   "metadata": {},
   "source": [
    "Here is another example where on can validate the values fed to the functions."
   ]
  },
  {
   "cell_type": "code",
   "execution_count": null,
   "id": "b8ab0ce0",
   "metadata": {},
   "outputs": [],
   "source": []
  }
 ],
 "metadata": {
  "kernelspec": {
   "display_name": "Python 3",
   "language": "python",
   "name": "python3"
  },
  "language_info": {
   "codemirror_mode": {
    "name": "ipython",
    "version": 3
   },
   "file_extension": ".py",
   "mimetype": "text/x-python",
   "name": "python",
   "nbconvert_exporter": "python",
   "pygments_lexer": "ipython3",
   "version": "3.8.5"
  }
 },
 "nbformat": 4,
 "nbformat_minor": 5
}

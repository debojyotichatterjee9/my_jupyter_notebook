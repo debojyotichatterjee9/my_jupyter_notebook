{
 "cells": [
  {
   "cell_type": "markdown",
   "id": "f437c479",
   "metadata": {},
   "source": [
    "### Problem Statement\n",
    "\n",
    "Consider a database table, Emails, which has the attributes First Name and Email ID. Given ***N*** rows of data simulating the Emails table, print an alphabetically-ordered list of people whose email address ends in ***@gmail.com***.\n",
    "\n",
    "#### Input Format\n",
    "\n",
    "The first line contains an integer, ***N***, total number of rows in the table.\n",
    "Each of the ***N*** subsequent lines contains ***2*** space-separated strings denoting a person's first name and email ID, respectively.\n",
    "\n",
    "##### Constraints\n",
    "* ***2 <= N <= 30***\n",
    "* Each of the first names consists of lower case letters ***[a - z]*** only.\n",
    "* Each of the email IDs consists of lower case letters ***[a - z]***,  ***@***and ***.(period)*** only.\n",
    "* The length of the first name is no longer than ***20***.\n",
    "* The length of the email ID is no longer than ***50***.\n",
    "\n",
    "#### Output Format\n",
    "\n",
    "Print an alphabetically-ordered list of first names for every user with a gmail account. Each name must be printed on a new line.\n",
    "\n",
    "##### Sample Input\n",
    "```bash\n",
    "6\n",
    "riya riya@gmail.com\n",
    "julia julia@julia.me\n",
    "julia sjulia@gmail.com\n",
    "julia julia@gmail.com\n",
    "samantha samantha@gmail.com\n",
    "tanya tanya@gmail.com\n",
    "```\n",
    "##### Sample Output\n",
    "```bash\n",
    "julia\n",
    "julia\n",
    "riya\n",
    "samantha\n",
    "tanya\n",
    "```"
   ]
  },
  {
   "cell_type": "code",
   "execution_count": 3,
   "id": "cab1753f",
   "metadata": {},
   "outputs": [
    {
     "name": "stdout",
     "output_type": "stream",
     "text": [
      "1\n",
      "hahaha hahaha@timcook.com\n"
     ]
    }
   ],
   "source": [
    "import math\n",
    "import os\n",
    "import random\n",
    "import re\n",
    "import sys\n",
    "\n",
    "\n",
    "\n",
    "if __name__ == '__main__':\n",
    "    N = int(input())\n",
    "    nw = []\n",
    "\n",
    "    for N_itr in range(N):\n",
    "        first_multiple_input = input().split()\n",
    "\n",
    "        firstName = first_multiple_input[0]\n",
    "\n",
    "        emailID = first_multiple_input[1]\n",
    "        if '@gmail.com' in emailID:\n",
    "            nw.append(firstName)\n",
    "    \n",
    "    nw = sorted(nw)\n",
    "    for item in nw:\n",
    "        print(item)"
   ]
  }
 ],
 "metadata": {
  "kernelspec": {
   "display_name": "Python 3",
   "language": "python",
   "name": "python3"
  },
  "language_info": {
   "codemirror_mode": {
    "name": "ipython",
    "version": 3
   },
   "file_extension": ".py",
   "mimetype": "text/x-python",
   "name": "python",
   "nbconvert_exporter": "python",
   "pygments_lexer": "ipython3",
   "version": "3.8.5"
  }
 },
 "nbformat": 4,
 "nbformat_minor": 5
}

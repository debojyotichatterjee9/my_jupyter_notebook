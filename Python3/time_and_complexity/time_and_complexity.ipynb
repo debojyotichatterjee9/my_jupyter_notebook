{
 "cells": [
  {
   "cell_type": "markdown",
   "id": "1717b25f",
   "metadata": {},
   "source": [
    "### Problem Statement\n",
    "\n",
    "A prime is a natural number greater than ***1*** that has no positive divisors other than ***1*** and itself. Given a number, ***n***, determine and print whether it is **Prime** or **Not Prime**.\n",
    "\n",
    "\n",
    "**Note:** If possible, try to come up with a O$({\\sqrt{n}})$ primality algorithm, or see what sort of optimizations you come up with for an O$({n})$ algorithm. Be sure to check out the Editorial after submitting your code.\n",
    "\n",
    "#### Input Format\n",
    "\n",
    "The first line contains an integer, ***T***, the number of test cases.\n",
    "Each of the ***T*** subsequent lines contains an integer, ***n***, to be tested for primality.\n",
    "\n",
    "##### Constraints\n",
    "* ***1 <= T <= 30***\n",
    "* ***1 <= n <= 2 x $10^9$***\n",
    "\n",
    "#### Output Format\n",
    "\n",
    "For each test case, print whether ***n*** is **Prime** or **Not Prime** on a new line.\n",
    "\n",
    "#### Sample Input\n",
    "```bash\n",
    "3\n",
    "12\n",
    "5\n",
    "7\n",
    "```\n",
    "\n",
    "#### Sample Output\n",
    "```bash\n",
    "Not prime\n",
    "Prime\n",
    "Prime\n",
    "```\n",
    "\n",
    "#### Explanation\n",
    "\n",
    "* Test Case 0: ***n = 12***.<br>\n",
    " **12** is divisible by numbers other than **1** and itself (i.e.: **2, 3, 4, 6**), so we print **Not Prime** on a new line.\n",
    "\n",
    "* Test Case 1: ***n = 5***.\n",
    " **5** is only divisible **1** and itself, so we print **Prime** on a new line.\n",
    "\n",
    "Test Case 2: ***n = 7***.\n",
    " **7** is only divisible **1** and itself, so we print **Prime** on a new line."
   ]
  },
  {
   "cell_type": "code",
   "execution_count": null,
   "id": "0ab106c7",
   "metadata": {},
   "outputs": [],
   "source": [
    "from math import sqrt\n",
    "\n",
    "T = int(input())\n",
    "\n",
    "\n",
    "def isPrime(n):\n",
    "    for i in range(2, int(sqrt(n)+1)):\n",
    "        if n % i is 0:\n",
    "            return False\n",
    "    return True\n",
    "\n",
    "\n",
    "for _ in range(T):\n",
    "    n = int(input())\n",
    "    \n",
    "    if n >= 2 and isPrime(n):\n",
    "        print(\"Prime\")\n",
    "    else:\n",
    "        print(\"Not prime\")"
   ]
  }
 ],
 "metadata": {
  "kernelspec": {
   "display_name": "Python 3",
   "language": "python",
   "name": "python3"
  },
  "language_info": {
   "codemirror_mode": {
    "name": "ipython",
    "version": 3
   },
   "file_extension": ".py",
   "mimetype": "text/x-python",
   "name": "python",
   "nbconvert_exporter": "python",
   "pygments_lexer": "ipython3",
   "version": "3.8.5"
  }
 },
 "nbformat": 4,
 "nbformat_minor": 5
}

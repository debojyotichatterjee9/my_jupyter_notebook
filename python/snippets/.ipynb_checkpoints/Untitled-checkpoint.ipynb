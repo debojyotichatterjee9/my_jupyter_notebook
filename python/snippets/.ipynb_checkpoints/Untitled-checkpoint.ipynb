{
 "cells": [
  {
   "cell_type": "markdown",
   "id": "b1c759ab",
   "metadata": {},
   "source": [
    "### Binary Search"
   ]
  },
  {
   "cell_type": "code",
   "execution_count": 58,
   "id": "abb602b7",
   "metadata": {},
   "outputs": [
    {
     "name": "stdout",
     "output_type": "stream",
     "text": [
      "[10, 28, 22, 28, 37, 19, 16, 31, 34, 34]\n",
      "Sorted list-> [10, 16, 19, 22, 28, 28, 31, 34, 34, 37]\n"
     ]
    }
   ],
   "source": [
    "import random\n",
    "list1 = [random.randrange(10,50,3) for i in range(1,11)]\n",
    "print(list1)\n",
    "list1.sort()\n",
    "print(\"Sorted list->\", list1)"
   ]
  },
  {
   "cell_type": "markdown",
   "id": "ab11adbc",
   "metadata": {},
   "source": [
    "#### Method 1: Recursive"
   ]
  },
  {
   "cell_type": "code",
   "execution_count": 60,
   "id": "52f9f035",
   "metadata": {},
   "outputs": [
    {
     "name": "stdout",
     "output_type": "stream",
     "text": [
      "Element is at position: 9\n"
     ]
    }
   ],
   "source": [
    "def binary_recursive(lst, low, high, val):\n",
    "    if high>=low:\n",
    "        mid = (high+low)//2\n",
    "        if lst[mid] == val:\n",
    "            return mid\n",
    "        elif lst[mid] < val:\n",
    "            return (binary_recursive(lst, mid + 1 , high, val))\n",
    "        else:\n",
    "            return (binary_recursive(lst, low , mid - 1, val))\n",
    "    else:\n",
    "        return False\n",
    "elem_pos1 = binary_recursive(list1,0,len(list1)-1,37)\n",
    "print(\"Element is at position:\", elem_pos1)"
   ]
  },
  {
   "cell_type": "markdown",
   "id": "37ec09de",
   "metadata": {},
   "source": [
    "#### Method2: Iterative"
   ]
  },
  {
   "cell_type": "code",
   "execution_count": 65,
   "id": "d9eb1039",
   "metadata": {},
   "outputs": [
    {
     "name": "stdout",
     "output_type": "stream",
     "text": [
      "Element is at position:  9\n"
     ]
    }
   ],
   "source": [
    "def binary_iterative(lst, val):\n",
    "    low = 0\n",
    "    mid = 0\n",
    "    high = len(lst) - 1\n",
    "    \n",
    "    while low <= high:\n",
    "        mid = (low + high) // 2\n",
    "        \n",
    "        if lst[mid] < val:\n",
    "            low = mid + 1\n",
    "        elif lst[mid] > val:\n",
    "            high = mid - 1\n",
    "        else:\n",
    "            return mid\n",
    "    return False\n",
    "\n",
    "elem_pos2 = binary_iterative(list1, 37)\n",
    "print(\"Element is at position: \", elem_pos2)"
   ]
  }
 ],
 "metadata": {
  "kernelspec": {
   "display_name": "Python 3",
   "language": "python",
   "name": "python3"
  },
  "language_info": {
   "codemirror_mode": {
    "name": "ipython",
    "version": 3
   },
   "file_extension": ".py",
   "mimetype": "text/x-python",
   "name": "python",
   "nbconvert_exporter": "python",
   "pygments_lexer": "ipython3",
   "version": "3.8.5"
  }
 },
 "nbformat": 4,
 "nbformat_minor": 5
}

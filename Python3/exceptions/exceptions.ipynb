{
 "cells": [
  {
   "cell_type": "markdown",
   "id": "a95efae0",
   "metadata": {},
   "source": [
    "### Problem Statement\n",
    "\n",
    "Read a string, ***S***, and print its integer value; if ***S*** cannot be converted to an integer, print `Bad String`.\n",
    "\n",
    "**Note:** You must use the String-to-Integer and exception handling constructs built into your submission language. If you attempt to use loops/conditional statements, you will get a **0** score.\n",
    "\n",
    "#### Input Format\n",
    "\n",
    "A single string, ***S***.\n",
    "\n",
    "#### Constraints\n",
    "\n",
    "* 1 <= |***S***| <= 6, where |***S***| is the length of string .\n",
    "* ***S*** is composed of either lowercase letters (**a - z**) or decimal digits (**0 - 9**).\n",
    "\n",
    "#### Output Format\n",
    "\n",
    "Print the parsed integer value of ***S***, or Bad String if ***S*** cannot be converted to an integer.\n",
    "\n",
    "##### Sample Input 0\n",
    "```bash\n",
    "3\n",
    "```\n",
    "##### Sample Output 0\n",
    "```bash\n",
    "3\n",
    "```\n",
    "##### Sample Input 1\n",
    "```bash\n",
    "za\n",
    "```\n",
    "##### Sample Output 1\n",
    "```bash\n",
    "Bad String\n",
    "```\n",
    "\n",
    "#### Explanation\n",
    "\n",
    "Sample Case **0** contains an integer, so it should not raise an exception when we attempt to convert it to an integer. Thus, we print the **3**.\n",
    "Sample Case **1** does not contain any integers, so an attempt to convert it to an integer will raise an exception. Thus, our exception handler prints `Bad String`."
   ]
  },
  {
   "cell_type": "code",
   "execution_count": 5,
   "id": "0177224b",
   "metadata": {},
   "outputs": [
    {
     "name": "stdout",
     "output_type": "stream",
     "text": [
      "dd\n",
      "Bad String\n"
     ]
    }
   ],
   "source": [
    "import math\n",
    "import os\n",
    "import random\n",
    "import re\n",
    "import sys\n",
    "\n",
    "\n",
    "\n",
    "if __name__ == '__main__':\n",
    "    S = input()\n",
    "    try:\n",
    "        integer_value = int(S)\n",
    "        print(integer_value)\n",
    "    except ValueError:\n",
    "        print(\"Bad String\")"
   ]
  }
 ],
 "metadata": {
  "kernelspec": {
   "display_name": "Python 3",
   "language": "python",
   "name": "python3"
  },
  "language_info": {
   "codemirror_mode": {
    "name": "ipython",
    "version": 3
   },
   "file_extension": ".py",
   "mimetype": "text/x-python",
   "name": "python",
   "nbconvert_exporter": "python",
   "pygments_lexer": "ipython3",
   "version": "3.8.5"
  }
 },
 "nbformat": 4,
 "nbformat_minor": 5
}

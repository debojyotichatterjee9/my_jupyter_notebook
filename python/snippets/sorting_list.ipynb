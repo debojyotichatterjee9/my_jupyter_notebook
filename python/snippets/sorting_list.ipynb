{
 "cells": [
  {
   "cell_type": "markdown",
   "id": "219bb43f",
   "metadata": {},
   "source": [
    "### Sorting with the in-built sort function."
   ]
  },
  {
   "cell_type": "code",
   "execution_count": null,
   "id": "d7a17f09",
   "metadata": {},
   "outputs": [],
   "source": [
    "list1 = [56,22,10,89,19,74,27,36,49,5]\n",
    "\n",
    "list1.sort()\n",
    "print(list1)\n",
    "list1.sort(reverse=True)\n",
    "print(list1)\n"
   ]
  },
  {
   "cell_type": "markdown",
   "id": "12937c9d",
   "metadata": {},
   "source": [
    "### Sorting without the in-built sort function."
   ]
  },
  {
   "cell_type": "code",
   "execution_count": 41,
   "id": "c6c49cb0",
   "metadata": {},
   "outputs": [
    {
     "name": "stdout",
     "output_type": "stream",
     "text": [
      "prev length-> 10\n",
      "[3, 15, 24, 29, 32, 59, 59, 67, 76, 99]\n",
      "final length-> 10\n"
     ]
    }
   ],
   "source": [
    "list2 = [76,29,15,59,99,24,67,32,59,3]\n",
    "print(\"prev length->\",len(list2))\n",
    "sorted_list = []\n",
    "\n",
    "while list2:\n",
    "    min_val = list2[0] #setting arbitrary min value\n",
    "    for elem in list2:\n",
    "        if elem > min_val:\n",
    "            min_val = elem\n",
    "    sorted_list.append(min_val)\n",
    "    list2.remove(min_val)\n",
    "            \n",
    "print(sorted_list)\n",
    "print(\"final length->\",len(sorted_list))"
   ]
  },
  {
   "cell_type": "code",
   "execution_count": null,
   "id": "3a3900b8",
   "metadata": {},
   "outputs": [],
   "source": []
  }
 ],
 "metadata": {
  "kernelspec": {
   "display_name": "Python 3",
   "language": "python",
   "name": "python3"
  },
  "language_info": {
   "codemirror_mode": {
    "name": "ipython",
    "version": 3
   },
   "file_extension": ".py",
   "mimetype": "text/x-python",
   "name": "python",
   "nbconvert_exporter": "python",
   "pygments_lexer": "ipython3",
   "version": "3.8.5"
  }
 },
 "nbformat": 4,
 "nbformat_minor": 5
}

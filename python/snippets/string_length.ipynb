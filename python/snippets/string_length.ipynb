{
 "cells": [
  {
   "cell_type": "code",
   "execution_count": 1,
   "id": "dcc58809",
   "metadata": {},
   "outputs": [
    {
     "name": "stdout",
     "output_type": "stream",
     "text": [
      "Using len function:  13\n",
      "Using for loop:  13\n"
     ]
    }
   ],
   "source": [
    "string1 = \"Microservices\"\n",
    "\n",
    "count = 0\n",
    "\n",
    "for i in string1:\n",
    "    count=count+1\n",
    "    \n",
    "print(\"Using len function: \",len(string1))\n",
    "print(\"Using for loop: \",count)"
   ]
  },
  {
   "cell_type": "code",
   "execution_count": null,
   "id": "9870d8a2",
   "metadata": {},
   "outputs": [],
   "source": []
  }
 ],
 "metadata": {
  "kernelspec": {
   "display_name": "Python 3",
   "language": "python",
   "name": "python3"
  },
  "language_info": {
   "codemirror_mode": {
    "name": "ipython",
    "version": 3
   },
   "file_extension": ".py",
   "mimetype": "text/x-python",
   "name": "python",
   "nbconvert_exporter": "python",
   "pygments_lexer": "ipython3",
   "version": "3.8.5"
  }
 },
 "nbformat": 4,
 "nbformat_minor": 5
}

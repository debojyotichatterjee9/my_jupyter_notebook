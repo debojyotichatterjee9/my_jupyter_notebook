{
 "cells": [
  {
   "cell_type": "markdown",
   "id": "92a6b642",
   "metadata": {},
   "source": [
    "#### Lambda functions\n",
    "\n",
    "Lambda functions are basically anonymous functions which can be used\n",
    "It make the code look more slick and eliminates the requirement of writing unecessary \n",
    "lines when you can achieve the requirement through a one liner.\n",
    "\n",
    "A lambda function takes multiple arguements(can be any number) and returns a value."
   ]
  },
  {
   "cell_type": "markdown",
   "id": "f6ddc338",
   "metadata": {},
   "source": [
    "#### Normal function example:"
   ]
  },
  {
   "cell_type": "code",
   "execution_count": 1,
   "id": "6abe7c48",
   "metadata": {},
   "outputs": [
    {
     "name": "stdout",
     "output_type": "stream",
     "text": [
      "7\n"
     ]
    }
   ],
   "source": [
    "def add_numbers(val1, val2):\n",
    "    return val1 + val2\n",
    "print(add_numbers(2, 5))"
   ]
  },
  {
   "cell_type": "markdown",
   "id": "13830fc6",
   "metadata": {},
   "source": [
    "#### Lambda function example"
   ]
  },
  {
   "cell_type": "code",
   "execution_count": 3,
   "id": "5881668a",
   "metadata": {},
   "outputs": [
    {
     "name": "stdout",
     "output_type": "stream",
     "text": [
      "15\n"
     ]
    }
   ],
   "source": [
    "add_numbers_lambda = lambda val1, val2 : val1 + val2\n",
    "print(add_numbers_lambda(10, 5))"
   ]
  },
  {
   "cell_type": "markdown",
   "id": "ad3aec4c",
   "metadata": {},
   "source": [
    "A lambda function can also be used inside a fuction."
   ]
  },
  {
   "cell_type": "code",
   "execution_count": 7,
   "id": "7bdc1965",
   "metadata": {},
   "outputs": [
    {
     "name": "stdout",
     "output_type": "stream",
     "text": [
      "9.0\n"
     ]
    }
   ],
   "source": [
    "def get_average(val1,val2):\n",
    "    sum = val1 + val2\n",
    "    avg = lambda sum : sum/2\n",
    "    return avg(sum)\n",
    "print(get_average(8,10))"
   ]
  },
  {
   "cell_type": "markdown",
   "id": "e498252f",
   "metadata": {},
   "source": [
    "You can add default parameters to a lambda functions too."
   ]
  },
  {
   "cell_type": "code",
   "execution_count": 8,
   "id": "ab823b06",
   "metadata": {},
   "outputs": [
    {
     "name": "stdout",
     "output_type": "stream",
     "text": [
      "27\n",
      "24\n"
     ]
    }
   ],
   "source": [
    "add_something_or_four = lambda x, y=4 : x + y\n",
    "print(add_something_or_four(20, 7))\n",
    "print(add_something_or_four(20))"
   ]
  },
  {
   "cell_type": "markdown",
   "id": "255d9a47",
   "metadata": {},
   "source": [
    "#### Using lambda in a map function"
   ]
  },
  {
   "cell_type": "code",
   "execution_count": 14,
   "id": "a5345e31",
   "metadata": {},
   "outputs": [
    {
     "name": "stdout",
     "output_type": "stream",
     "text": [
      "[6, 7, 8, 9, 10, 11, 12, 13, 14, 15]\n"
     ]
    }
   ],
   "source": [
    "list1 = [1,2,3,4,5,6,7,8,9,10]\n",
    "new_list = list(map(lambda elem : elem + 5, list1))\n",
    "print(new_list)"
   ]
  },
  {
   "cell_type": "markdown",
   "id": "cbc655f5",
   "metadata": {},
   "source": [
    "#### Using lambda in filter function"
   ]
  },
  {
   "cell_type": "code",
   "execution_count": 15,
   "id": "e6c6a6f8",
   "metadata": {},
   "outputs": [
    {
     "name": "stdout",
     "output_type": "stream",
     "text": [
      "[2, 4, 6, 8, 10]\n"
     ]
    }
   ],
   "source": [
    "list1 = [1,2,3,4,5,6,7,8,9,10]\n",
    "new_list = list(filter(lambda elem : elem % 2 == 0, list1))\n",
    "print(new_list)"
   ]
  }
 ],
 "metadata": {
  "kernelspec": {
   "display_name": "Python 3",
   "language": "python",
   "name": "python3"
  },
  "language_info": {
   "codemirror_mode": {
    "name": "ipython",
    "version": 3
   },
   "file_extension": ".py",
   "mimetype": "text/x-python",
   "name": "python",
   "nbconvert_exporter": "python",
   "pygments_lexer": "ipython3",
   "version": "3.8.5"
  }
 },
 "nbformat": 4,
 "nbformat_minor": 5
}

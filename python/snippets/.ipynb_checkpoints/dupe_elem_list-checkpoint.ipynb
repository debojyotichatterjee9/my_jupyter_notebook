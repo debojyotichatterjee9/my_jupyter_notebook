{
 "cells": [
  {
   "cell_type": "code",
   "execution_count": 11,
   "id": "ddcdfdcf",
   "metadata": {},
   "outputs": [],
   "source": [
    "import random\n",
    "\n",
    "# list1 = random.sample(range(10,15),5)\n",
    "list1 = [11, 10, 13, 12, 14, 22, 95, 10, 13]\n",
    "dupe_counter={}"
   ]
  },
  {
   "cell_type": "markdown",
   "id": "6b54f0ea",
   "metadata": {},
   "source": [
    "#### Counting each element in the list"
   ]
  },
  {
   "cell_type": "code",
   "execution_count": 12,
   "id": "fbfe28b6",
   "metadata": {},
   "outputs": [
    {
     "name": "stdout",
     "output_type": "stream",
     "text": [
      "{11: 1, 10: 2, 13: 2, 12: 1, 14: 1, 22: 1, 95: 1}\n"
     ]
    }
   ],
   "source": [
    "for elem in list1:\n",
    "    dupe_counter[elem]=list1.count(elem)\n",
    "print(dupe_counter)"
   ]
  },
  {
   "cell_type": "markdown",
   "id": "b046b2bc",
   "metadata": {},
   "source": [
    "#### Finding dupe elements in the list"
   ]
  },
  {
   "cell_type": "code",
   "execution_count": 16,
   "id": "8328f89b",
   "metadata": {},
   "outputs": [
    {
     "name": "stdout",
     "output_type": "stream",
     "text": [
      "{10, 13}\n"
     ]
    }
   ],
   "source": [
    "dupe_elems = set([elem for elem in list1 if list1.count(elem)>1])\n",
    "print(dupe_elems)"
   ]
  }
 ],
 "metadata": {
  "kernelspec": {
   "display_name": "Python 3",
   "language": "python",
   "name": "python3"
  },
  "language_info": {
   "codemirror_mode": {
    "name": "ipython",
    "version": 3
   },
   "file_extension": ".py",
   "mimetype": "text/x-python",
   "name": "python",
   "nbconvert_exporter": "python",
   "pygments_lexer": "ipython3",
   "version": "3.8.5"
  }
 },
 "nbformat": 4,
 "nbformat_minor": 5
}

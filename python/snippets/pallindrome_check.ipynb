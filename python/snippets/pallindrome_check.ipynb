{
 "cells": [
  {
   "cell_type": "code",
   "execution_count": 48,
   "id": "5f3a8b55",
   "metadata": {},
   "outputs": [],
   "source": [
    "str1 = \"Lullaby\"\n",
    "str2 = \"Madam\""
   ]
  },
  {
   "cell_type": "code",
   "execution_count": 49,
   "id": "771e0232",
   "metadata": {},
   "outputs": [
    {
     "name": "stdout",
     "output_type": "stream",
     "text": [
      "False True\n"
     ]
    }
   ],
   "source": [
    "def pall_method1(str):\n",
    "    str=str.lower()\n",
    "    return str==str[::-1]\n",
    "result1 = pall_method1(str1)\n",
    "result2 = pall_method1(str2)\n",
    "print(result1,result2)"
   ]
  },
  {
   "cell_type": "markdown",
   "id": "b6831730",
   "metadata": {},
   "source": [
    "#### Method 2: Iterative Method:"
   ]
  },
  {
   "cell_type": "code",
   "execution_count": 50,
   "id": "5a42ce0b",
   "metadata": {},
   "outputs": [
    {
     "name": "stdout",
     "output_type": "stream",
     "text": [
      "False True\n"
     ]
    }
   ],
   "source": [
    "def pall_method2(str):\n",
    "    str=str.lower()\n",
    "    for i in range(0,int(len(str)/2)):\n",
    "        if str[i]!=str[len(str)-i-1]:\n",
    "            return False\n",
    "    return True\n",
    "result3 = pall_method2(str1)\n",
    "result4 = pall_method2(str2)\n",
    "print(result3,result4)"
   ]
  },
  {
   "cell_type": "markdown",
   "id": "da49085b",
   "metadata": {},
   "source": [
    "#### Method 3: Using predefined function ‘ ‘.join(reversed(string))"
   ]
  },
  {
   "cell_type": "code",
   "execution_count": 47,
   "id": "010a80ea",
   "metadata": {},
   "outputs": [
    {
     "name": "stdout",
     "output_type": "stream",
     "text": [
      "False True\n"
     ]
    }
   ],
   "source": [
    "def pall_method3(str):\n",
    "    str=str.lower()\n",
    "    rev_str = ''.join(reversed(str))\n",
    "    if str==rev_str:\n",
    "        return True\n",
    "    return False\n",
    "result5 = pall_method3(str1)\n",
    "result6 = pall_method3(str2)\n",
    "print(result5,result6)"
   ]
  },
  {
   "cell_type": "markdown",
   "id": "108d838c",
   "metadata": {},
   "source": [
    "#### Method4: Using an extra variable"
   ]
  },
  {
   "cell_type": "code",
   "execution_count": 57,
   "id": "859ea27e",
   "metadata": {},
   "outputs": [
    {
     "name": "stdout",
     "output_type": "stream",
     "text": [
      "False True\n"
     ]
    }
   ],
   "source": [
    "def pall_method4(str):\n",
    "    str=str.lower()\n",
    "    rev_str=\"\"\n",
    "    for elem in str:\n",
    "        rev_str = elem+rev_str\n",
    "    return rev_str==str\n",
    "result7 = pall_method4(str1)\n",
    "result8 = pall_method4(str2)\n",
    "print(result7,result8)"
   ]
  },
  {
   "cell_type": "markdown",
   "id": "0482a2f9",
   "metadata": {},
   "source": [
    "#### Method5: Using Recursion:"
   ]
  },
  {
   "cell_type": "code",
   "execution_count": 62,
   "id": "504daa7c",
   "metadata": {},
   "outputs": [
    {
     "name": "stdout",
     "output_type": "stream",
     "text": [
      "False True\n"
     ]
    }
   ],
   "source": [
    "def pall_method5(str):\n",
    "    str=str.lower()\n",
    "    if len(str)<2:\n",
    "        return True\n",
    "    elif str[0]==str[len(str)-1]:\n",
    "        return pall_method5(str[1:len(str)-1])\n",
    "    else:\n",
    "        return False\n",
    "result9 = pall_method5(str1)\n",
    "result10 = pall_method5(str2)\n",
    "print(result9,result10)"
   ]
  }
 ],
 "metadata": {
  "kernelspec": {
   "display_name": "Python 3",
   "language": "python",
   "name": "python3"
  },
  "language_info": {
   "codemirror_mode": {
    "name": "ipython",
    "version": 3
   },
   "file_extension": ".py",
   "mimetype": "text/x-python",
   "name": "python",
   "nbconvert_exporter": "python",
   "pygments_lexer": "ipython3",
   "version": "3.8.5"
  }
 },
 "nbformat": 4,
 "nbformat_minor": 5
}
